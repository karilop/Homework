{
 "cells": [
  {
   "cell_type": "code",
   "execution_count": null,
   "metadata": {},
   "outputs": [],
   "source": [
    "# Homework #3"
   ]
  },
  {
   "cell_type": "markdown",
   "metadata": {},
   "source": [
    "# Data Types\n",
    "# 1. What is an algorithm?\n",
    "#   An algorithm is a series od steps to solve a problem at hand\n",
    "# 2. Variable names may not start with certain characters - name two.\n",
    "#   Can not start with a number or python reserve words\n",
    "# 3. What is a Semantic error?\n",
    "#   It is an error code that is grammatically correct but doesn't make any sense; it does not produce the expected results\n",
    "# 4. What is the #1 rule of coding / debugging?\n",
    "#   The #1 rule is Complexity is the enemy of efficiency! \n",
    "# 5. List 5 Python reserved words.\n",
    "#   none, else, nonlocal, and, finally"
   ]
  },
  {
   "cell_type": "code",
   "execution_count": 13,
   "metadata": {},
   "outputs": [
    {
     "name": "stdout",
     "output_type": "stream",
     "text": [
      "My name is Karina\n",
      "My favorite food is ice cream\n",
      "My dream job is napper\n"
     ]
    }
   ],
   "source": [
    "# 6. Write a multi-line comment with your name, favorite food, and dream job on 3 different lines\n",
    "\n",
    "my_name = input('Enter your name: ')\n",
    "favorite_food = input('Enter favorite food: ')\n",
    "dream_job = input('Enter dream job: ')\n",
    "\n",
    "print('My name is ' + my_name)\n",
    "print('My favorite food is '+ favorite_food)\n",
    "print('My dream job is ' + dream_job)"
   ]
  },
  {
   "cell_type": "code",
   "execution_count": 1,
   "metadata": {},
   "outputs": [
    {
     "name": "stdout",
     "output_type": "stream",
     "text": [
      "Length of the string: 13\n",
      "The 4th character is: k\n"
     ]
    }
   ],
   "source": [
    "# 7. Assign 5 different data types to 5 different variables. At least one datatype must be a string\n",
    "# Print the length of your string\n",
    "# Print the index value of the 4th character in your string\n",
    "\n",
    "# String\n",
    "var_str = \"Mickey Mouse!\"\n",
    "\n",
    "# Integer\n",
    "var_int = 87\n",
    "\n",
    "# Float\n",
    "var_float = 3.14  \n",
    "\n",
    "# List\n",
    "var_list = [5, 2, 3, 4, 1]  \n",
    "\n",
    "# Boolean\n",
    "var_bool = True\n",
    "\n",
    "# Print the length of string\n",
    "string_length = len(var_str)  \n",
    "print(\"Length of the string:\" , string_length)\n",
    "\n",
    "# Print the index value of the 4th character in string\n",
    "fourth_char = var_str[3]  \n",
    "print(\"The 4th character is:\", fourth_char)\n"
   ]
  },
  {
   "cell_type": "code",
   "execution_count": 2,
   "metadata": {},
   "outputs": [
    {
     "name": "stdout",
     "output_type": "stream",
     "text": [
      "Sliced portion: ing Data Analytics \n",
      "Modified 'savvy' string: Learning Data Analytics and Python is great!\n",
      "Does 'savvy' contain 'Python'? True\n"
     ]
    }
   ],
   "source": [
    "# 8. Create a new variable called savvy, and assign it the string with this phrase \"Learning Data Analytics and Python is Awesome!\"\n",
    "# Return a range of characters that slices the above string from the beginning of \"ing\" up to before \"and\"\n",
    "# Replace \"Awesome\" with \"great\" in the string\n",
    "# Test and print the savvy string to see it contains \"Python\"\n",
    "\n",
    "# Create the 'savvy' variable with the given phrase\n",
    "savvy = \"Learning Data Analytics and Python is Awesome!\"\n",
    "\n",
    "# Return a range of characters that slices the string from the beginning of \"ing\" up to before \"and\"\n",
    "sliced_portion = savvy[savvy.index(\"ing\"):savvy.index(\"and\")]\n",
    "\n",
    "# Replace \"Awesome\" with \"great\" in the string\n",
    "savvy = savvy.replace(\"Awesome\", \"great\")\n",
    "\n",
    "# Test and print the 'savvy' string to see if it contains \"Python\"\n",
    "contains_python = \"Python\" in savvy\n",
    "\n",
    "print(\"Sliced portion:\", sliced_portion)\n",
    "print(\"Modified 'savvy' string:\", savvy)\n",
    "print(\"Does 'savvy' contain 'Python'?\", contains_python)\n"
   ]
  },
  {
   "cell_type": "code",
   "execution_count": 8,
   "metadata": {},
   "outputs": [
    {
     "name": "stdout",
     "output_type": "stream",
     "text": [
      "Hi my name is Karina, I am 5'6\" and 34 years old today.\n",
      "Age as a float: 34.0\n"
     ]
    }
   ],
   "source": [
    "# 9. Create and assign 3 more variables called name, age and length using the multi-variable naming method\n",
    "# Format a new string called 'miniBio' using variables in curly brackets to complete this phrase... \"Hi my name is (name), I am (tall) and (so) old today.\"\n",
    "# Print 'miniBio'\n",
    "# Cast and print the age variable to a float\n",
    "\n",
    "# Create and assign variables using multi-variable naming\n",
    "name, age, tall, so = \"Karina\", 34, \"5'6\\\"\", \"34\"\n",
    "\n",
    "# Format the 'miniBio' string using curly brackets and variables\n",
    "miniBio = \"Hi my name is {}, I am {} and {} years old today.\".format(name, tall, so)\n",
    "\n",
    "# Print 'miniBio'\n",
    "print(miniBio)\n",
    "\n",
    "# Cast and print the age variable to a float\n",
    "age_as_float = float(age)\n",
    "print(\"Age as a float:\", age_as_float)\n"
   ]
  },
  {
   "cell_type": "code",
   "execution_count": 9,
   "metadata": {},
   "outputs": [
    {
     "name": "stdout",
     "output_type": "stream",
     "text": [
      "Length of the original list: 7\n",
      "Second list: ['coffee', 'milk', 'soda']\n",
      "Sorted 'simList': [False, False, True, True, True]\n",
      "Fourth list: ['coffee', 'milk', 'soda', False, False, True, True, True]\n"
     ]
    }
   ],
   "source": [
    "# Complex Data Types:\n",
    "\n",
    "# 10. Create a list of at least 5 elements of mixed data types\n",
    "    # Replace a part of it with something else\n",
    "    # Append or insert several more items to the list\n",
    "    # Find and print the length of the list\n",
    "    # Slice a sub-section of the 1st list, and save it to a different 2nd list\n",
    "    # Print the 2nd list\n",
    "    # Extend your original list with the 2nd list sliced above\n",
    "    # Create a new list called \"simList\" containing at least 5 elements of the same data type, either string, integer, float, or Boolean\n",
    "    # Sort \"simList\", and print the list\n",
    "    # Copy the \"simList\" list to another 3rd list\n",
    "    # Add the 2nd and 3rd lists together into a 4th list\n",
    "\n",
    "# Create a list with at least 5 elements of mixed data types\n",
    "my_list1 = [31, 'coffee', 10.19, True, 'cookies']\n",
    "\n",
    "# Replace part of the list with something else\n",
    "my_list1[2] = 'soda'\n",
    "\n",
    "# Append or insert several more items to the list\n",
    "my_list1.append(False)\n",
    "my_list1.insert(2, 'milk')\n",
    "\n",
    "# Find and print the length of the list\n",
    "list_length = len(my_list1)\n",
    "print(\"Length of the original list:\", list_length)\n",
    "\n",
    "# Slice a sub-section of the original list and save it to a different second list\n",
    "my_list2 = my_list1[1:4]\n",
    "\n",
    "# Print the second list\n",
    "print(\"Second list:\", my_list2)\n",
    "\n",
    "# Extend the original list with the second list\n",
    "my_list1.extend(my_list2)\n",
    "\n",
    "# Create a new list \"simList\" containing at least 5 elements of the same data type\n",
    "simList = [True, False, True, False, True]\n",
    "\n",
    "# Sort \"simList\" and print it\n",
    "simList.sort()\n",
    "print(\"Sorted 'simList':\", simList)\n",
    "\n",
    "# Copy \"simList\" to another third list\n",
    "my_list3 = simList.copy()\n",
    "\n",
    "# Add the second and third lists together into a fourth list\n",
    "my_list4 = my_list2 + my_list3\n",
    "\n",
    "# Print the fourth list\n",
    "print(\"Fourth list:\", my_list4)\n"
   ]
  },
  {
   "cell_type": "code",
   "execution_count": 17,
   "metadata": {},
   "outputs": [
    {
     "name": "stdout",
     "output_type": "stream",
     "text": [
      "(2, 2, 2, 4, 4, 4, 6, 6, 6, 8, 8, 8, 10, 10, 10)\n",
      "Unpacked variables: 2 4 4 4\n",
      "Element 12 from the second tuple: 4\n",
      "Sorted second tuple: (2, 2, 2, 4, 4, 4, 6, 6, 6, 8, 8, 8, 10, 10, 10)\n",
      "Third tuple: (2, 4, 4, 4)\n",
      "Fourth tuple: 50\n",
      "Fifth tuple: (2, 2, 2, 4, 4, 4, 6, 6, 6, 8, 8, 8, 10, 10, 10, 2, 4, 4, 4)\n"
     ]
    }
   ],
   "source": [
    "# 11. Create a tuple of about 5 elements\n",
    "    # Multiply your tuple by 3 and save it to a new 2nd tuple\n",
    "    # Access and print the 12th element from the 2nd tuple\n",
    "    # Sort the 2nd tuple and print it\n",
    "    # Copy 4 specific elements from your 2nd tuple to a new 3nd tuple\n",
    "    # Unpack the 3rd tuple into 4 variables and print these variables\n",
    "    # Create a 4th tuple with single item 50 and print this tuple\n",
    "    # Add the 2nd and 3rd tuple together into a 5th tuple and print the tuple\n",
    "\n",
    "# Create a tuple with about 5 elements\n",
    "my_tuple1 = (2, 4, 6, 8, 10)\n",
    "\n",
    "# Multiply the tuple by 3 and save it to a new second tuple\n",
    "my_tuple2 = my_tuple1 * 3\n",
    "\n",
    "# Access and print the 12th element from the second tuple\n",
    "element_12 = my_tuple2[11]\n",
    "\n",
    "# Sort the second tuple and print it\n",
    "my_tuple2 = tuple(sorted(my_tuple2))\n",
    "print(my_tuple2)\n",
    "\n",
    "# Copy 4 specific elements from the second tuple to a new third tuple\n",
    "my_tuple3 = my_tuple2[2:6]\n",
    "\n",
    "# Unpack the third tuple into 4 variables and print these variables\n",
    "var1, var2, var3, var4 = my_tuple3\n",
    "print(\"Unpacked variables:\", var1, var2, var3, var4)\n",
    "\n",
    "# Create a fourth tuple with a single item 50\n",
    "my_tuple4 = (50)\n",
    "\n",
    "# Add the second and third tuple together into a fifth tuple\n",
    "my_tuple5 = my_tuple2 + my_tuple3\n",
    "\n",
    "# Print the results\n",
    "print(\"Element 12 from the second tuple:\", element_12)\n",
    "print(\"Sorted second tuple:\", my_tuple2)\n",
    "print(\"Third tuple:\", my_tuple3)\n",
    "print(\"Fourth tuple:\", my_tuple4)\n",
    "print(\"Fifth tuple:\", my_tuple5)\n"
   ]
  },
  {
   "cell_type": "code",
   "execution_count": 22,
   "metadata": {},
   "outputs": [
    {
     "name": "stdout",
     "output_type": "stream",
     "text": [
      "Remainder of the third set: {'apple', 35, 'blueberry', 15, 20, 25, 'Jeep', 30}\n"
     ]
    }
   ],
   "source": [
    "# 12. Create a set of about 3 elements\n",
    "    # Add a list of fruits to the above set and print the result\n",
    "    # Add a car element to your set\n",
    "    # Create a 2nd set with a few odd items\n",
    "    # Save the union of 1st set and 2nd set to a 3rd set\n",
    "    # Pop an element from the 2nd set, and print the remainder of the set\n",
    "    # Clear the 1st set and print the result\n",
    "    # Discard an element, and remove another element from the 3rd set\n",
    "    # Print the remainder of the 3rd set\n",
    "\n",
    "# Create a set with about 3 elements\n",
    "my_set1 = {10, 20, 30}\n",
    "\n",
    "# Add a list of fruits to the set\n",
    "my_set1.update(['apple', 'banana', 'blueberry'])\n",
    "\n",
    "# Add a car element to the set\n",
    "my_set1.add('Jeep')\n",
    "\n",
    "# Create a second set with a few odd items\n",
    "my_set2 = {15, 25, 35}\n",
    "\n",
    "# Save the union of the first set and the second set to a third set\n",
    "my_set3 = my_set1.union(my_set2)\n",
    "\n",
    "# Pop an element from the second set and print the remainder\n",
    "popped_element = my_set2.pop()\n",
    "\n",
    "# Clear the first set and print the result\n",
    "my_set1.clear()\n",
    "\n",
    "# Discard an element and remove another element from the third set\n",
    "my_set3.discard('banana')\n",
    "my_set3.remove(10)  # Raises an error if the element is not found\n",
    "\n",
    "# Print the remainder of the third set\n",
    "print(\"Remainder of the third set:\", my_set3)\n"
   ]
  },
  {
   "cell_type": "code",
   "execution_count": 26,
   "metadata": {},
   "outputs": [
    {
     "name": "stdout",
     "output_type": "stream",
     "text": [
      "Value of 'name' in the first dictionary: Elizabeth\n",
      "Keys in the first dictionary: ['name', 'age', 'is_student', 'grades', 'money', 'favorite_color', 'songs']\n",
      "Values in the first dictionary: ['Your Name', 34, True, [65, 92, 78], (12.84, 22.45), 'orange', {'mine', 'enchanted', 'mean'}]\n",
      "Second dictionary after popping the 'is_student' item: {'name': 'Your Name', 'age': 34, 'grades': [65, 92, 78], 'money': (12.84, 22.45), 'favorite_color': 'orange', 'songs': {'mine', 'enchanted', 'mean'}}\n",
      "Second dictionary after removing all elements: {}\n"
     ]
    }
   ],
   "source": [
    "# 13. Create a dictionary with at least 5 values of different data types\n",
    "    # Print out 1 value\n",
    "    # Replace any one value in your dictionary with your name\n",
    "    # Add your favorite color to the dictionary\n",
    "    # Add a list, tuple or set to your dictionary\n",
    "    # Print a list of the dictionary keys\n",
    "    # Print a list of the dictionary values\n",
    "    # Copy your 1st dictionary into a 2nd dictionary\n",
    "    # Pop an item from the 2nd dictionary, and print the dictionary\n",
    "    # Remove all the elements from the 2nd dictionary and print the result\n",
    "\n",
    "# Create a dictionary with at least 5 values of different data types\n",
    "my_dict1 = {\n",
    "    'name': 'Elizabeth',\n",
    "    'age': 34,\n",
    "    'is_student': True,\n",
    "    'grades': [65, 92, 78],\n",
    "    'money': (12.84, 22.45)\n",
    "}\n",
    "\n",
    "# Print out 1 value from the dictionary\n",
    "print(\"Value of 'name' in the first dictionary:\", my_dict1['name'])\n",
    "\n",
    "# Replace one value in the dictionary with your name\n",
    "my_dict1['name'] = 'Your Name'\n",
    "\n",
    "# Add your favorite color to the dictionary\n",
    "my_dict1['favorite_color'] = 'orange'\n",
    "\n",
    "# Add a set to the dictionary\n",
    "my_dict1['songs'] = {'enchanted', 'mean', 'mine'}\n",
    "\n",
    "# Print a list of the dictionary keys\n",
    "print(\"Keys in the first dictionary:\", list(my_dict1.keys()))\n",
    "\n",
    "# Print a list of the dictionary values\n",
    "print(\"Values in the first dictionary:\", list(my_dict1.values()))\n",
    "\n",
    "# Copy the first dictionary into a second dictionary\n",
    "my_dict2 = my_dict1.copy()\n",
    "\n",
    "# Pop an item from the second dictionary\n",
    "popped_item = my_dict2.pop('is_student')\n",
    "\n",
    "# Print the second dictionary after popping the 'is_student' item\n",
    "print(\"Second dictionary after popping the 'is_student' item:\", my_dict2)\n",
    "\n",
    "# Remove all elements from the second dictionary\n",
    "my_dict2.clear()\n",
    "\n",
    "# Print the second dictionary after removing all elements\n",
    "print(\"Second dictionary after removing all elements:\", my_dict2)\n"
   ]
  }
 ],
 "metadata": {
  "kernelspec": {
   "display_name": "Python 3",
   "language": "python",
   "name": "python3"
  },
  "language_info": {
   "codemirror_mode": {
    "name": "ipython",
    "version": 3
   },
   "file_extension": ".py",
   "mimetype": "text/x-python",
   "name": "python",
   "nbconvert_exporter": "python",
   "pygments_lexer": "ipython3",
   "version": "3.12.0"
  }
 },
 "nbformat": 4,
 "nbformat_minor": 2
}
