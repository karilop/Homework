{
 "cells": [
  {
   "cell_type": "markdown",
   "metadata": {},
   "source": [
    "# **Week 5 - Homework (NumPy, Pandas)**\n",
    "\n",
    "## **1 - What does Pandas stand for?**\n",
    "### Pandas stands for either Panel Data or Python Data Analysis\n",
    "\n",
    "## **2 - What are the 2 collections used in Pandas?**\n",
    "### Two collections used in Pandas are Series and DataFrame\n",
    "\n",
    "## **3 - Name 4 things Pandas can do for us.**\n",
    "### 1. Data Cleansing\n",
    "### 2. Data normalization\n",
    "### 3. Data visualization\n",
    "### 4. Data inspection\n",
    "\n",
    "## **4 - To permanently sort a DataFrame, which keyword should one use with the `df.sort()` method?**\n",
    "### The keyword to use is 'inplace'\n",
    "\n",
    "## **5 - What is a CSV?**\n",
    "### A CSV is a comma seperated file\n",
    "\n",
    "## **6 - When cleaning data what values do we not like in our data?**\n",
    "### We do not like NULLS in the dataframe"
   ]
  },
  {
   "cell_type": "markdown",
   "metadata": {},
   "source": [
    "#### **Coding Exercise:**"
   ]
  },
  {
   "cell_type": "code",
   "execution_count": 7,
   "metadata": {},
   "outputs": [
    {
     "name": "stdout",
     "output_type": "stream",
     "text": [
      "[[[ 0  1]\n",
      "  [ 2  3]\n",
      "  [ 4  5]]\n",
      "\n",
      " [[ 6  7]\n",
      "  [ 8  9]\n",
      "  [10 11]]]\n"
     ]
    }
   ],
   "source": [
    "# 7. Import NumPy, use one of the NumPy methods and create an array with a shape of (2, 3, 2). You can use the reshape method -- `.reshape()` \n",
    "\n",
    "import numpy as np\n",
    "\n",
    "original_array = np.arange(12)\n",
    "\n",
    "# Reshaped\n",
    "new_array = original_array.reshape(2, 3, 2)\n",
    "\n",
    "print(new_array)"
   ]
  },
  {
   "cell_type": "code",
   "execution_count": 12,
   "metadata": {},
   "outputs": [
    {
     "name": "stdout",
     "output_type": "stream",
     "text": [
      "[ 0.  4.  8. 12. 16. 20.]\n"
     ]
    }
   ],
   "source": [
    "# 8. Use NumPy `.linspace()` to create an array with 6 linearly spaced values between 0 and 20\n",
    "\n",
    "import numpy as np\n",
    "\n",
    "my_array = np.linspace(0, 20, 6)\n",
    "\n",
    "print(my_array)"
   ]
  },
  {
   "cell_type": "code",
   "execution_count": 13,
   "metadata": {},
   "outputs": [
    {
     "name": "stdout",
     "output_type": "stream",
     "text": [
      "[ 0.  4.  8. 12. 16. 20.]\n"
     ]
    }
   ],
   "source": [
    "# 9. Make a Deep Copy of the above array\n",
    "\n",
    "import numpy as np\n",
    "\n",
    "my_array = np.linspace(0, 20, 6)\n",
    "\n",
    "my_array_copy = np.copy(my_array)\n",
    "\n",
    "print(my_array_copy)"
   ]
  },
  {
   "cell_type": "code",
   "execution_count": 15,
   "metadata": {},
   "outputs": [
    {
     "name": "stdout",
     "output_type": "stream",
     "text": [
      "[[25 16]\n",
      " [11  2]\n",
      " [13  4]\n",
      " [ 7 81]\n",
      " [ 5  6]\n",
      " [11 12]]\n"
     ]
    }
   ],
   "source": [
    "# 10. Concatenate these 3 arrays into a new array named 'newArray'...\n",
    "#    ```python\n",
    "#            ([[25, 16]])\n",
    "#            ([[11, 2], [13, 4]])\n",
    "#            ([[7, 81], [5, 6], [11, 12]])\n",
    "#    ```\n",
    "\n",
    "import numpy as np\n",
    "\n",
    "array1 = np.array([[25, 16]])\n",
    "array2 = np.array([[11, 2], [13, 4]])\n",
    "array3 = np.array([[7, 81], [5, 6], [11, 12]])\n",
    "\n",
    "newArray = np.concatenate((array1, array2, array3), axis=0)\n",
    "\n",
    "print(newArray)"
   ]
  },
  {
   "cell_type": "code",
   "execution_count": 16,
   "metadata": {},
   "outputs": [
    {
     "name": "stdout",
     "output_type": "stream",
     "text": [
      "[[16 25]\n",
      " [ 2 11]\n",
      " [ 4 13]\n",
      " [ 7 81]\n",
      " [ 5  6]\n",
      " [11 12]]\n"
     ]
    }
   ],
   "source": [
    "# 11. Sort 'newArray' in order into 'sortedArray'\n",
    "\n",
    "import numpy as np\n",
    "\n",
    "sortedArray = np.sort(newArray)\n",
    "\n",
    "print(sortedArray)"
   ]
  },
  {
   "cell_type": "code",
   "execution_count": 23,
   "metadata": {},
   "outputs": [
    {
     "name": "stdout",
     "output_type": "stream",
     "text": [
      "Array Slice 1:\n",
      "[[0 1]\n",
      " [2 3]\n",
      " [4 5]]\n",
      "Array Slice 2:\n",
      "[[ 6  7]\n",
      " [ 8  9]\n",
      " [10 11]]\n",
      "Array Slice 3:\n",
      "[[0 1]\n",
      " [6 7]]\n",
      "Array Slice 4:\n",
      "[[2 3]\n",
      " [8 9]]\n"
     ]
    }
   ],
   "source": [
    "# 12. Unpack the array tuples from the above 'reshapedArray' into 4 well named variables. Print the 4 variables. Using the 'reshapedArray' from number 7 for this. \n",
    "\n",
    "import numpy as np\n",
    "\n",
    "array_slice_1 = new_array[0]\n",
    "array_slice_2 = new_array[1]\n",
    "array_slice_3 = new_array[:, 0, :]\n",
    "array_slice_4 = new_array[:, 1, :]\n",
    "\n",
    "print(\"Array Slice 1:\")\n",
    "print(array_slice_1)\n",
    "print(\"Array Slice 2:\")\n",
    "print(array_slice_2)\n",
    "print(\"Array Slice 3:\")\n",
    "print(array_slice_3)\n",
    "print(\"Array Slice 4:\")\n",
    "print(array_slice_4)\n",
    "\n"
   ]
  },
  {
   "cell_type": "code",
   "execution_count": 5,
   "metadata": {},
   "outputs": [
    {
     "name": "stdout",
     "output_type": "stream",
     "text": [
      "[ 0  1  2  3  4  5  6  7 10 11 12 13 14 15 16 17 20 21 22 23 24 25 26 27]\n"
     ]
    }
   ],
   "source": [
    "# 13. Combined and sort the following arrays into one called 'comboArray' ...\n",
    "#    one = ([10, 11, 12, 13, 14, 15, 16, 17])\n",
    "#    two = ([20, 21, 22, 23, 24, 25, 26, 27])\n",
    "#    three = ([ 0, 1, 2, 3, 4, 5, 6, 7])\n",
    "\n",
    "import numpy as np\n",
    "\n",
    "one = np.array([10, 11, 12, 13, 14, 15, 16, 17])\n",
    "two = np.array([20, 21, 22, 23, 24, 25, 26, 27])\n",
    "three = np.array([0, 1, 2, 3, 4, 5, 6, 7])\n",
    "\n",
    "comboArray = np.concatenate((one, two, three))\n",
    "\n",
    "comboArray = np.sort(comboArray)\n",
    "\n",
    "print(comboArray)"
   ]
  },
  {
   "cell_type": "code",
   "execution_count": 8,
   "metadata": {},
   "outputs": [
    {
     "name": "stdout",
     "output_type": "stream",
     "text": [
      "[ 0  1  2  3  4  5  6  7 10 11 12 13 14 15 16 17 20 21 22 23 24 25 26 27]\n",
      "sec1: 1\n",
      "sec2: [ 2  3  4  5  6  7 10 11 12 13 14 15 16 17 20 21 22 23 24 25 26 27]\n",
      "sec3: [ 3  4  5  6  7 10 11 12 13 14 15]\n",
      "sec4: [22 23 24 25 26 27]\n",
      "sec5: [ 0  1  2  3  4  5  6  7 10 11 12 13 14 15 16]\n",
      "sec6: [24 26]\n",
      "sec7: [ 3 10 15 22 27]\n"
     ]
    }
   ],
   "source": [
    "# 14. Take 'comboArray' and perform the following slicing activities:\n",
    "\n",
    "import numpy as np\n",
    "\n",
    "print(comboArray)\n",
    "\n",
    "#print sec1 - the 2nd element\n",
    "sec1 = comboArray[1]\n",
    "print(\"sec1:\", sec1)\n",
    "\n",
    "#print sec2 - all elements from the 3rd element to the last\n",
    "sec2 = comboArray[2:]\n",
    "print(\"sec2:\", sec2)\n",
    "\n",
    "#print sec3 - all elements from the 4th to the 14th elements\n",
    "sec3 = comboArray[3:14]\n",
    "print(\"sec3:\", sec3)\n",
    "\n",
    "#print sec4 - the last 6 elements\n",
    "sec4 = comboArray[-6:]\n",
    "print(\"sec4:\", sec4)\n",
    "\n",
    "#print sec5 - all element from #0 up to and including #15, using the negative number method, i.e. taking a section from the end.\n",
    "sec5 = comboArray[:15]  # Reverse the order to get the first 16 elements\n",
    "print(\"sec5:\", sec5)\n",
    "\n",
    "#print sec6 - from #20 every even element to the end\n",
    "sec6 = comboArray[20::2]\n",
    "print(\"sec6:\", sec6)\n",
    "\n",
    "#print sec7 - from the last element moving forward, every 5th element.\n",
    "sec7 = comboArray[::-5][::-1]  # Reverse the order to get the forward sequence\n",
    "print(\"sec7:\", sec7)"
   ]
  },
  {
   "cell_type": "code",
   "execution_count": 42,
   "metadata": {},
   "outputs": [
    {
     "name": "stdout",
     "output_type": "stream",
     "text": [
      "Dinner\n",
      "   Ingredients  Quantity   Unit\n",
      "0       Flour         4   cups\n",
      "1        Milk         1    cup\n",
      "2        Eggs         2  large\n",
      "3        Spam         1    can\n"
     ]
    }
   ],
   "source": [
    "# 15. Using Series, create a DataFrame that looks like this:\n",
    "\n",
    "# Ingredients\tQuantity\tUnit\n",
    "# Flour\t4\tcups\n",
    "# Milk\t1\tcup\n",
    "# Eggs\t2\tlarge\n",
    "# Spam\t1\tcan\n",
    "# Name: Dinner, dtype: object\n",
    "\n",
    "import pandas as pd\n",
    "\n",
    "data = {\n",
    "    'Ingredients': ['Flour', 'Milk', 'Eggs', 'Spam'],\n",
    "    'Quantity': [4, 1, 2, 1],\n",
    "    'Unit': ['cups', 'cup', 'large', 'can']\n",
    "}\n",
    "\n",
    "df = pd.DataFrame(data)\n",
    "df.name = 'Dinner'\n",
    "\n",
    "print(\"Dinner\\n\", df)\n"
   ]
  },
  {
   "cell_type": "code",
   "execution_count": 43,
   "metadata": {},
   "outputs": [
    {
     "name": "stdout",
     "output_type": "stream",
     "text": [
      "Student Data\n",
      "       Name  Height Qualification  Address  Age        Pets           Sport\n",
      "0      Jai     5.1           Msc    Delhi   21         Dog           Darts\n",
      "1  janusha     6.2            MA     Doha   23       Bunny      Basketball\n",
      "2   Gaurav     5.1           Msc  Chennai   24  Chinchilla  PaddleBoarding\n",
      "3     Anuj     5.2           Msc   Dakhar   21      Parrot         Cricket\n"
     ]
    }
   ],
   "source": [
    "# 16. Take this data and create a DataFrame named studentData\n",
    "\n",
    "#    {'Name': ['Jai', 'janusha', 'Gaurav', 'Anuj'],\n",
    "#        'Height': [5.1, 6.2, 5.1, 5.2],\n",
    "#       'Qualification': ['Msc', 'MA', 'Msc', 'Msc'],\n",
    "#       'address': ['Delhi', 'Doha', 'Chennai', 'Dakhar'],\n",
    "#       'Age': [21, 23, 24, 21],\n",
    "#       'Pets': ['Dog', 'Bunny', 'Chinchilla', 'Parrot'],\n",
    "#       'sport': ['Darts', 'Basketball', 'PaddleBoarding', 'Cricket']\n",
    "#   }\n",
    "\n",
    "import pandas as pd\n",
    "\n",
    "data = {\n",
    "    'Name': ['Jai', 'janusha', 'Gaurav', 'Anuj'],\n",
    "    'Height': [5.1, 6.2, 5.1, 5.2],\n",
    "    'Qualification': ['Msc', 'MA', 'Msc', 'Msc'],\n",
    "    'Address': ['Delhi', 'Doha', 'Chennai', 'Dakhar'],\n",
    "    'Age': [21, 23, 24, 21],\n",
    "    'Pets': ['Dog', 'Bunny', 'Chinchilla', 'Parrot'],\n",
    "    'Sport': ['Darts', 'Basketball', 'PaddleBoarding', 'Cricket']\n",
    "}\n",
    "\n",
    "studentData = pd.DataFrame(data)\n",
    "\n",
    "print(\"Student Data\\n\", studentData)\n"
   ]
  },
  {
   "cell_type": "code",
   "execution_count": 60,
   "metadata": {},
   "outputs": [
    {
     "name": "stdout",
     "output_type": "stream",
     "text": [
      "Student Data\n",
      "       Name  Height Qualification  Address  Age        Pets           Sport\n",
      "0      Jai     5.1           Msc    Delhi   21         Dog           Darts\n",
      "1  janusha     6.2            MA     Doha   23       Bunny      Basketball\n",
      "2   Gaurav     5.1           Msc  Chennai   24  Chinchilla  PaddleBoarding\n",
      "3     Anuj     5.2           Msc   Dakhar   21      Parrot         Cricket\n",
      "\n",
      "StudentData with Desert\n",
      "       Name  Height Qualification  Address  Age        Pets           Sport  \\\n",
      "0      Jai     5.1           Msc    Delhi   21         Dog           Darts   \n",
      "1  janusha     6.2            MA     Doha   23       Bunny      Basketball   \n",
      "2   Gaurav     5.1           Msc  Chennai   24  Chinchilla  PaddleBoarding   \n",
      "3     Anuj     5.2           Msc   Dakhar   21      Parrot         Cricket   \n",
      "\n",
      "         Desert  \n",
      "0     Ice Cream  \n",
      "1  Cashew Fudge  \n",
      "2       waffels  \n",
      "3  Carrot Halwa  \n"
     ]
    }
   ],
   "source": [
    "# 17. Add a new column to the DataFrame with the following deserts: [\"ice cream\", \"Cashew Fudge\", \"waffels\", \"Carrot Halwa\"]\n",
    "\n",
    "import pandas as pd\n",
    "\n",
    "data = {\n",
    "    'Name': ['Jai', 'janusha', 'Gaurav', 'Anuj'],\n",
    "    'Height': [5.1, 6.2, 5.1, 5.2],\n",
    "    'Qualification': ['Msc', 'MA', 'Msc', 'Msc'],\n",
    "    'Address': ['Delhi', 'Doha', 'Chennai', 'Dakhar'],\n",
    "    'Age': [21, 23, 24, 21],\n",
    "    'Pets': ['Dog', 'Bunny', 'Chinchilla', 'Parrot'],\n",
    "    'Sport': ['Darts', 'Basketball', 'PaddleBoarding', 'Cricket']\n",
    "}\n",
    "\n",
    "studentData = pd.DataFrame(data)\n",
    "print(\"Student Data\\n\", studentData) \n",
    "\n",
    "deserts = ['Ice Cream', 'Cashew Fudge', 'waffels', 'Carrot Halwa']\n",
    "\n",
    "studentData['Desert'] = deserts\n",
    "print(\"\\nStudentData with Desert\\n\", studentData)"
   ]
  },
  {
   "cell_type": "code",
   "execution_count": 70,
   "metadata": {},
   "outputs": [
    {
     "name": "stdout",
     "output_type": "stream",
     "text": [
      "      Name  Height Qualification  address  Age        Pets           sport  \\\n",
      "3     Anuj     5.2           Msc   Dakhar   21      Parrot         Cricket   \n",
      "2   Gaurav     5.1           Msc  Chennai   24  Chinchilla  PaddleBoarding   \n",
      "0      Jai     5.1           Msc    Delhi   21         Dog           Darts   \n",
      "1  janusha     6.2            MA     Doha   23       Bunny      Basketball   \n",
      "\n",
      "        deserts  \n",
      "3  Carrot Halwa  \n",
      "2       waffles  \n",
      "0     ice cream  \n",
      "1  Cashew Fudge  \n"
     ]
    }
   ],
   "source": [
    "# 18. Sort the 'studentData' DataFrame in Ascending order -- Sorting by column 'Name' and then \"address\"\n",
    "\n",
    "import pandas as pd\n",
    "\n",
    "data = {\n",
    "    'Name': ['Jai', 'janusha', 'Gaurav', 'Anuj'],\n",
    "    'Height': [5.1, 6.2, 5.1, 5.2],\n",
    "    'Qualification': ['Msc', 'MA', 'Msc', 'Msc'],\n",
    "    'address': ['Delhi', 'Doha', 'Chennai', 'Dakhar'],\n",
    "    'Age': [21, 23, 24, 21],\n",
    "    'Pets': ['Dog', 'Bunny', 'Chinchilla', 'Parrot'],\n",
    "    'sport': ['Darts', 'Basketball', 'PaddleBoarding', 'Cricket'],\n",
    "    'deserts': ['ice cream', 'Cashew Fudge', 'waffles', 'Carrot Halwa']\n",
    "}\n",
    "\n",
    "# Create a DataFrame from the data dictionary\n",
    "studentData = pd.DataFrame(data)\n",
    "\n",
    "# Sort the DataFrame by 'Name' and then 'address' in ascending order\n",
    "studentData = studentData.sort_values(by=['Name', 'address'], ascending=[True, True])\n",
    "\n",
    "print(studentData)"
   ]
  },
  {
   "cell_type": "code",
   "execution_count": 73,
   "metadata": {},
   "outputs": [],
   "source": [
    "# 19. Save this DataFrame here below to disc as a .CSV file with the name cows_and_goats.csv:\n",
    "\n",
    "import pandas as pd\n",
    "\n",
    "df = pd.DataFrame({'Cows': [12, 20], 'Goats': [22, 19]}, index=['Year 1', 'Year 2'])\n",
    "\n",
    "# Save the DataFrame as a CSV file\n",
    "df.to_csv('cows_and_goats.csv')\n"
   ]
  },
  {
   "cell_type": "code",
   "execution_count": 74,
   "metadata": {},
   "outputs": [],
   "source": [
    "# 20. (A) Using Pandas, make your own .CSV file with data on vegetables and save it. (B) Using Pandas, make a change to your CSV file, and save a copy with a different name.\n",
    "\n",
    "import pandas as pd\n",
    "\n",
    "# Create a DataFrame with data on vegetables\n",
    "data = {\n",
    "    'Vegetable': ['Carrot', 'Broccoli', 'Tomato', 'Spinach', 'Bell Pepper'],\n",
    "    'Color': ['Orange', 'Green', 'Red', 'Green', 'Yellow'],\n",
    "    'Taste': ['Sweet', 'Sandy', 'Sweet', 'Mild', 'Sweet'],\n",
    "    'Price per Pound': [1.5, 2.0, 1.0, 1.2, 1.8]\n",
    "}\n",
    "\n",
    "vegetables_df = pd.DataFrame(data)\n",
    "vegetables_df.to_csv('vegetables.csv', index=False)\n",
    "\n",
    "# Make changes to the DataFrame, increasing prices for inflation by 40%\n",
    "vegetables_df['Price per Pound'] = vegetables_df['Price per Pound'] * 1.4\n",
    "\n",
    "vegetables_df.to_csv('inflation_vegetables.csv', index=False)\n"
   ]
  }
 ],
 "metadata": {
  "kernelspec": {
   "display_name": "Python 3",
   "language": "python",
   "name": "python3"
  },
  "language_info": {
   "codemirror_mode": {
    "name": "ipython",
    "version": 3
   },
   "file_extension": ".py",
   "mimetype": "text/x-python",
   "name": "python",
   "nbconvert_exporter": "python",
   "pygments_lexer": "ipython3",
   "version": "3.12.0"
  }
 },
 "nbformat": 4,
 "nbformat_minor": 2
}
