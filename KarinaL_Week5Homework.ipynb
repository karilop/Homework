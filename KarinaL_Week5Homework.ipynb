{
 "cells": [
  {
   "cell_type": "markdown",
   "metadata": {},
   "source": [
    "# Week 5 - Homework (NumPy, Pandas)\n",
    "\n",
    "## 1 - What does Pandas stand for?\n",
    "### Pandas stands for either Panel Data or Python Data Analysis\n",
    "\n",
    "## 2 - What are the 2 collections used in Pandas?\n",
    "### Two collections used in Panadas are Series and DataFrame\n",
    "\n",
    "## 3 - Name 4 things Pandas can do for us.\n",
    "### 1. Data Cleansing\n",
    "### 2. Data normalization\n",
    "### 3. Data visualization\n",
    "### 4. Data inspection\n",
    "\n",
    "## 4 - To permanently sort a DataFrame, which keyword should one use with the `df.sort()` method?\n",
    "### The keyword to use is 'inplace'\n",
    "\n",
    "## 5 - What is a CSV?\n",
    "### A CSV is a comma seperated file\n",
    "\n",
    "## 6 - When cleaning data what values do we not like in our data?\n",
    "### We do not like NULLS in the dataframe"
   ]
  },
  {
   "cell_type": "code",
   "execution_count": null,
   "metadata": {},
   "outputs": [],
   "source": []
  }
 ],
 "metadata": {
  "language_info": {
   "name": "python"
  }
 },
 "nbformat": 4,
 "nbformat_minor": 2
}
