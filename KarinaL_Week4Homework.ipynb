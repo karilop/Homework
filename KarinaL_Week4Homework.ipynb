{
 "cells": [
  {
   "cell_type": "code",
   "execution_count": null,
   "metadata": {},
   "outputs": [],
   "source": [
    "# Python Homework (Flow Control, Modules, Functions, Exceptions, NumPy) \n",
    "\n",
    "**Note**: You can create a Python file or a Jupyter Notebook file\n",
    "\n",
    "# Use markdown formatting for the following questions (e.g., bold lettering, bullet points, different font sizes, etc.):"
   ]
  },
  {
   "cell_type": "markdown",
   "metadata": {},
   "source": [
    "1. What does one need to do to use a module?\n",
    "\n",
    "If we want to use code from a module or a library in our applications, we first need to import the respective module into our code-base. by using the import statement."
   ]
  },
  {
   "cell_type": "markdown",
   "metadata": {},
   "source": [
    "2. Name a Module (not the DateTime Nodule) we looked at and write a line or 2 of code as an example using this module.\n",
    "\n",
    " Random module\n",
    "\n",
    " Return a random element from a List:\n",
    "import random\n",
    "myList =[\"pepsi\", \"coke\", \"sprite\", \"sierramist\", \"mountaindew\"]\n",
    "print(\"Random soda choice ...\", random.choice(myList))"
   ]
  },
  {
   "cell_type": "code",
   "execution_count": 3,
   "metadata": {},
   "outputs": [
    {
     "name": "stdout",
     "output_type": "stream",
     "text": [
      "Random soda choice ... sierramist\n"
     ]
    }
   ],
   "source": [
    "# 2. Name a Module (not the DateTime Nodule) we looked at and write a line or 2 of code as an example using this module.\n",
    "\n",
    "# Random module\n",
    "\n",
    "# Return a random element from a List:\n",
    "import random\n",
    "myList =[\"pepsi\", \"coke\", \"sprite\", \"sierramist\", \"mountaindew\"]\n",
    "print(\"Random soda choice ...\", random.choice(myList))"
   ]
  },
  {
   "cell_type": "markdown",
   "metadata": {},
   "source": [
    "3. What is a benefit of using Exception handling?\n",
    "\n",
    "Python will normally stop and generate an error message when something goes wrong, helping identify errors and exceptions in the code."
   ]
  },
  {
   "cell_type": "markdown",
   "metadata": {},
   "source": [
    "4. What are the 4 components used for Python Exception Handling?\n",
    "\n",
    "The try block lets you test a block of code for errors.\n",
    "\n",
    "The except block lets you handle the error.\n",
    "\n",
    "The else block lets you execute code when there is no error.\n",
    "\n",
    "The finally block lets you execute code, regardless of the result of the try- and except blocks."
   ]
  },
  {
   "cell_type": "markdown",
   "metadata": {},
   "source": [
    "5. NumPy arrays are like what Python data type?\n",
    "\n",
    "They are like Python Lists"
   ]
  },
  {
   "cell_type": "markdown",
   "metadata": {},
   "source": [
    "6. What is one of the main benefits of using NumPy arrays?\n",
    "\n",
    "Occupies less memory"
   ]
  },
  {
   "cell_type": "markdown",
   "metadata": {},
   "source": [
    "7. What is one of the main requirements about the 'dtype' of NumPy arrays? \n",
    "\n",
    "To have the same data type"
   ]
  },
  {
   "cell_type": "markdown",
   "metadata": {},
   "source": [
    "8. Of the 10 uses of NumPy, name 2.\n",
    "\n",
    "Arthmetic operations\n",
    "Statistical operations"
   ]
  },
  {
   "cell_type": "markdown",
   "metadata": {},
   "source": [
    "9. Name one of the other libraries we'll use with NumPy?\n",
    "\n",
    "Pandas"
   ]
  },
  {
   "cell_type": "markdown",
   "metadata": {},
   "source": [
    "10. What is the shape of NumPy arrays?\n",
    "The shape of NumPy arrays specifies the array shape by dimension (Ex: 3-D), length (rows) and size (columns)."
   ]
  },
  {
   "cell_type": "markdown",
   "metadata": {},
   "source": [
    "11. What is a Tensor?\n",
    "\n",
    "An array with 3+ dimensions."
   ]
  },
  {
   "cell_type": "markdown",
   "metadata": {},
   "source": [
    "12. Name a reason why it's better using  NumPy for Data Analysis than using a Python List?\n",
    "\n",
    "It is convenient to work with NumPy."
   ]
  },
  {
   "cell_type": "markdown",
   "metadata": {},
   "source": [
    "13. When creating an \"empty\" array, where do the elements come from?\n",
    "\n",
    "The elements are not initialized with specific values, and their initial content is undetermined."
   ]
  },
  {
   "cell_type": "markdown",
   "metadata": {},
   "source": [
    "#### Flow Control Methods:"
   ]
  },
  {
   "cell_type": "code",
   "execution_count": 5,
   "metadata": {},
   "outputs": [
    {
     "name": "stdout",
     "output_type": "stream",
     "text": [
      "Renting a car is very expensive\n",
      "Renting a care is more affordable\n"
     ]
    }
   ],
   "source": [
    "# 1. Create an if statement: if 'age' is greater than or equal to 25, print \"Renting a car is more affordable\", however if 'age' is less than 25, print \"Renting a car is very expensive.\"\n",
    "\n",
    "age = 22\n",
    "\n",
    "if age >= 25:\n",
    "    print(\"Renting a care is more affordable\")\n",
    "else: \n",
    "    print(\"Renting a car is very expensive\")      \n",
    "\n",
    "\n",
    "age = 27\n",
    "\n",
    "if age >= 25:\n",
    "    print(\"Renting a care is more affordable\")\n",
    "else: \n",
    "    print(\"Renting a car is very expensive\")  "
   ]
  },
  {
   "cell_type": "code",
   "execution_count": 6,
   "metadata": {},
   "outputs": [
    {
     "name": "stdout",
     "output_type": "stream",
     "text": [
      "You cannot legally rent a car.\n"
     ]
    }
   ],
   "source": [
    "# 2. Create and chain an if-else  statement: if 'age' is greater than or equal to 25, print \"Renting a car is more affordable.\" If 'age' is less than 25 but greater than or equal to 18, \n",
    "# print \"Renting a car is very expensive.\" Finally, if age is less than 18, print \"You cannot legally rent a car.\"\n",
    "\n",
    "age = 17 \n",
    "\n",
    "if age >= 25:\n",
    "    print(\"Renting a car is more affordable.\")\n",
    "elif age >= 18:\n",
    "    print(\"Renting a car is very expensive.\")\n",
    "else:\n",
    "    print(\"You cannot legally rent a car.\")"
   ]
  },
  {
   "cell_type": "code",
   "execution_count": 7,
   "metadata": {},
   "outputs": [
    {
     "name": "stdout",
     "output_type": "stream",
     "text": [
      "Total characters in the string: 43\n",
      "Vowels in the string: euioouoeeao\n"
     ]
    }
   ],
   "source": [
    "# 3. Loop over the following string to (1) count all the characters in the string and (2) print out all the vowels -- \"The quick brown fox jumps over the lazy dog\"\n",
    "\n",
    "input_string = \"The quick brown fox jumps over the lazy dog\"\n",
    "\n",
    "character_count = 0\n",
    "\n",
    "vowels = \"\"\n",
    "\n",
    "for char in input_string:\n",
    "    character_count += 1  \n",
    "    if char.lower() in 'aeiou':  \n",
    "        vowels += char  \n",
    "\n",
    "print(\"Total characters in the string:\", character_count)\n",
    "print(\"Vowels in the string:\", vowels)"
   ]
  },
  {
   "cell_type": "code",
   "execution_count": 8,
   "metadata": {},
   "outputs": [
    {
     "name": "stdout",
     "output_type": "stream",
     "text": [
      "Dark Sapphire trousers\n",
      "maple trousers\n",
      "fuchsia trousers\n",
      "gunmetal blue trousers\n",
      "auburn trousers\n",
      "aqua trousers\n",
      "cerise trousers\n",
      "burnt sienna trousers\n",
      "Dark Sapphire blouse\n",
      "maple blouse\n",
      "fuchsia blouse\n",
      "gunmetal blue blouse\n",
      "auburn blouse\n",
      "aqua blouse\n",
      "cerise blouse\n",
      "burnt sienna blouse\n",
      "Dark Sapphire bandana\n",
      "maple bandana\n",
      "fuchsia bandana\n",
      "gunmetal blue bandana\n",
      "auburn bandana\n",
      "aqua bandana\n",
      "cerise bandana\n",
      "burnt sienna bandana\n",
      "Dark Sapphire cumber band\n",
      "maple cumber band\n",
      "fuchsia cumber band\n",
      "gunmetal blue cumber band\n",
      "auburn cumber band\n",
      "aqua cumber band\n",
      "cerise cumber band\n",
      "burnt sienna cumber band\n",
      "Dark Sapphire blazer\n",
      "maple blazer\n",
      "fuchsia blazer\n",
      "gunmetal blue blazer\n",
      "auburn blazer\n",
      "aqua blazer\n",
      "cerise blazer\n",
      "burnt sienna blazer\n",
      "Dark Sapphire vest\n",
      "maple vest\n",
      "fuchsia vest\n",
      "gunmetal blue vest\n",
      "auburn vest\n",
      "aqua vest\n",
      "cerise vest\n",
      "burnt sienna vest\n",
      "Dark Sapphire french beret\n",
      "maple french beret\n",
      "fuchsia french beret\n",
      "gunmetal blue french beret\n",
      "auburn french beret\n",
      "aqua french beret\n",
      "cerise french beret\n",
      "burnt sienna french beret\n",
      "Dark Sapphire scarf\n",
      "maple scarf\n",
      "fuchsia scarf\n",
      "gunmetal blue scarf\n",
      "auburn scarf\n",
      "aqua scarf\n",
      "cerise scarf\n",
      "burnt sienna scarf\n",
      "Dark Sapphire stole\n",
      "maple stole\n",
      "fuchsia stole\n",
      "gunmetal blue stole\n",
      "auburn stole\n",
      "aqua stole\n",
      "cerise stole\n",
      "burnt sienna stole\n"
     ]
    }
   ],
   "source": [
    "# 4. Write a nested loop that prints out every piece of clothing from the couture list, in every fashionable color from the panettone set: \n",
    "# couture = [\"trousers\", \"blouse\", \"bandana\", \"cumber band\", \"blazer\", \"vest\", \"french beret\", \"scarf\", \"stole\"] and \n",
    "# panettone = {\"cerise\", \"fuchsia\", \"aqua\", \"maple\", \"auburn\", \"burnt sienna\", \"gunmetal blue\", \"Dark Sapphire\"}\n",
    "\n",
    "couture = [\"trousers\", \"blouse\", \"bandana\", \"cumber band\", \"blazer\", \"vest\", \"french beret\", \"scarf\", \"stole\"]\n",
    "\n",
    "panettone = {\"cerise\", \"fuchsia\", \"aqua\", \"maple\", \"auburn\", \"burnt sienna\", \"gunmetal blue\", \"Dark Sapphire\"}\n",
    "\n",
    "for clothing in couture:\n",
    "    for color in panettone:\n",
    "        print(f\"{color} {clothing}\")"
   ]
  },
  {
   "cell_type": "code",
   "execution_count": 10,
   "metadata": {},
   "outputs": [
    {
     "name": "stdout",
     "output_type": "stream",
     "text": [
      "The sum of numbers from 1 to 100 is: 4950\n"
     ]
    }
   ],
   "source": [
    "# 5. Use range as a loop to calculate the sum of all the numbers from 1 to 100\n",
    "\n",
    "total_sum = 0\n",
    "\n",
    "for number in range(1, 100): \n",
    "    total_sum += number\n",
    "\n",
    "print(\"The sum of numbers from 1 to 100 is:\", total_sum)"
   ]
  },
  {
   "cell_type": "code",
   "execution_count": 15,
   "metadata": {},
   "outputs": [
    {
     "name": "stdout",
     "output_type": "stream",
     "text": [
      "banana\n"
     ]
    }
   ],
   "source": [
    "# 6. Print the second item in this fruits list. [\"apple\", \"banana\", \"cherry\"]\n",
    "\n",
    "fruits = [\"apple\", \"banana\", \"cherry\"]\n",
    "\n",
    "print(fruits[1])\n"
   ]
  },
  {
   "cell_type": "code",
   "execution_count": 17,
   "metadata": {},
   "outputs": [
    {
     "name": "stdout",
     "output_type": "stream",
     "text": [
      "['kiwi', 'banana', 'cherry']\n"
     ]
    }
   ],
   "source": [
    "# 7. Change the value from \"apple\" to \"kiwi\", in the fruits list. [\"apple\", \"banana\", \"cherry\"]\n",
    "\n",
    "fruits = [\"apple\", \"banana\", \"cherry\"]\n",
    "\n",
    "fruits[0] = \"kiwi\"\n",
    "\n",
    "print(fruits)"
   ]
  },
  {
   "cell_type": "code",
   "execution_count": 18,
   "metadata": {},
   "outputs": [
    {
     "name": "stdout",
     "output_type": "stream",
     "text": [
      "['apple', 'banana', 'cherry', 'orange']\n"
     ]
    }
   ],
   "source": [
    "# 8. Use the append method to add \"orange\" to the fruits list. [\"apple\", \"banana\", \"cherry\"]\n",
    "\n",
    "fruits = [\"apple\", \"banana\", \"cherry\"]\n",
    "\n",
    "fruits.append(\"orange\")\n",
    "\n",
    "print(fruits)"
   ]
  },
  {
   "cell_type": "code",
   "execution_count": 19,
   "metadata": {},
   "outputs": [
    {
     "name": "stdout",
     "output_type": "stream",
     "text": [
      "['apple', 'lemon', 'banana', 'cherry']\n"
     ]
    }
   ],
   "source": [
    "# 9. Use the insert method to add \"lemon\" as the second item in the fruits list. [\"apple\", \"banana\", \"cherry\"]\n",
    "\n",
    "fruits = [\"apple\", \"banana\", \"cherry\"]\n",
    "\n",
    "fruits.insert(1, \"lemon\")\n",
    "\n",
    "print(fruits)"
   ]
  },
  {
   "cell_type": "code",
   "execution_count": null,
   "metadata": {},
   "outputs": [],
   "source": [
    "# 10. Use the remove method to remove \"banana\" from the fruits list. [\"apple\", \"banana\", \"cherry\"]"
   ]
  },
  {
   "cell_type": "code",
   "execution_count": null,
   "metadata": {},
   "outputs": [],
   "source": [
    "# 11. Use negative indexing to print the 3rd and 2nd to last items in the list. [\"apple\", \"banana\", \"cherry\", \"orange\", \"kiwi\", \"melon\", \"mango\"]"
   ]
  },
  {
   "cell_type": "code",
   "execution_count": null,
   "metadata": {},
   "outputs": [],
   "source": [
    "# 12. Use a range of indexes to print the third, fourth, and fifth item in the list. [\"apple\", \"banana\", \"cherry\", \"orange\", \"kiwi\", \"melon\", \"mango\"]"
   ]
  },
  {
   "cell_type": "code",
   "execution_count": null,
   "metadata": {},
   "outputs": [],
   "source": [
    "# 13. Use the correct syntax to print the number of items in the list. [\"apple\", \"banana\", \"cherry\", \"orange\", \"kiwi\", \"melon\", \"mango\"]"
   ]
  },
  {
   "cell_type": "code",
   "execution_count": null,
   "metadata": {},
   "outputs": [],
   "source": [
    "# 14. Use the correct syntax to sort this list in reverse order. [\"apple\", \"banana\", \"cherry\", \"orange\", \"kiwi\", \"melon\", \"mango\"]"
   ]
  },
  {
   "cell_type": "code",
   "execution_count": null,
   "metadata": {},
   "outputs": [],
   "source": [
    "# 15. Use the DateTime module to get Current Date and Time, and save it to a variable. Then extract just the Full month name form that variable."
   ]
  },
  {
   "cell_type": "code",
   "execution_count": null,
   "metadata": {},
   "outputs": [],
   "source": [
    "# 16. Write a simple function that takes 2 parameters -- a  first name and a day name.\n",
    "    # Set a default value for the day name of Sunday.\n",
    "    # Have the function print out a greeting -- using the parameters -- that says something like \"Hi first-name! Happy day-name!\". Remember to use the variables in the greeting to replace first-name and day-name.  \n",
    "    # Invoke this function with 2 variables.\n",
    "    # Invoke this function with 1 variable only."
   ]
  },
  {
   "cell_type": "code",
   "execution_count": null,
   "metadata": {},
   "outputs": [],
   "source": [
    "# 17. Write a block of code to handle one of the most common Python exception errors. Select one of the common errors from the curriculum section on Python Exception handling. \n",
    "# Have your code example uses the `try`,`except`, `else`, and `finally` components."
   ]
  },
  {
   "cell_type": "markdown",
   "metadata": {},
   "source": [
    "\n",
    "#### When done with homework:\n",
    "- **Due Date**: The following Monday before class\n",
    "- Make sure your homework file is well named\n",
    "- Add the homework to your Homework repo\n",
    "- Use  `git add .`, `git commit -m \"message\"`, and `git push` to upload your homework changes to GitHub in the cloud\n",
    "- Create a JIRA ticket to indicate that your Homework is ready for review:\n",
    "    - <ins> In the \"Summary\" box</ins>: Include First Name and Last Initial, plus a short description in the Summary box (Ex: Jane D. Week # Homework Complete)\n",
    "    - <ins> In the \"Description\" box</ins>: Include GitHub repo url \n"
   ]
  }
 ],
 "metadata": {
  "kernelspec": {
   "display_name": "base",
   "language": "python",
   "name": "python3"
  },
  "language_info": {
   "codemirror_mode": {
    "name": "ipython",
    "version": 3
   },
   "file_extension": ".py",
   "mimetype": "text/x-python",
   "name": "python",
   "nbconvert_exporter": "python",
   "pygments_lexer": "ipython3",
   "version": "3.12.0"
  }
 },
 "nbformat": 4,
 "nbformat_minor": 2
}
